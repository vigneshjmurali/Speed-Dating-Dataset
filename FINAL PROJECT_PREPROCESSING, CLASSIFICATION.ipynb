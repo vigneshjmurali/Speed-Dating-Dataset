{
 "cells": [
  {
   "cell_type": "code",
   "execution_count": 1,
   "metadata": {},
   "outputs": [
    {
     "name": "stderr",
     "output_type": "stream",
     "text": [
      "C:\\Users\\jaya3225.AD\\AppData\\Local\\Continuum\\anaconda3\\lib\\site-packages\\sklearn\\ensemble\\weight_boosting.py:29: DeprecationWarning: numpy.core.umath_tests is an internal NumPy module and should not be imported. It will be removed in a future NumPy release.\n",
      "  from numpy.core.umath_tests import inner1d\n",
      "C:\\Users\\jaya3225.AD\\AppData\\Local\\Continuum\\anaconda3\\lib\\site-packages\\sklearn\\cross_validation.py:41: DeprecationWarning: This module was deprecated in version 0.18 in favor of the model_selection module into which all the refactored classes and functions are moved. Also note that the interface of the new CV iterators are different from that of this module. This module will be removed in 0.20.\n",
      "  \"This module will be removed in 0.20.\", DeprecationWarning)\n"
     ]
    }
   ],
   "source": [
    "import pandas as pd ; import numpy as np; import random as rnd ;import math\n",
    "#importing data visualization packages\n",
    "import seaborn as sns ; import matplotlib.pyplot as plt\n",
    "%matplotlib inline\n",
    "#importing machine learning packages\n",
    "from sklearn.model_selection import cross_val_score\n",
    "from sklearn.linear_model import LogisticRegression\n",
    "from sklearn.svm import SVC, LinearSVC\n",
    "from sklearn.ensemble import RandomForestClassifier\n",
    "from sklearn.neighbors import KNeighborsClassifier\n",
    "from sklearn.naive_bayes import GaussianNB\n",
    "from sklearn.linear_model import Perceptron\n",
    "from sklearn.linear_model import SGDClassifier\n",
    "from sklearn.tree import DecisionTreeClassifier\n",
    "from sklearn.cross_validation import train_test_split\n",
    "from sklearn.metrics import accuracy_score\n",
    "from sklearn.ensemble import GradientBoostingClassifier\n",
    "from sklearn.neural_network import MLPClassifier\n",
    "from sklearn.preprocessing import Imputer\n",
    "from sklearn.metrics import roc_curve\n",
    "from sklearn.metrics import roc_auc_score\n",
    "from IPython.display import display, Math, Latex\n",
    "from sklearn.metrics import confusion_matrix\n",
    "from sklearn.model_selection import GridSearchCV, train_test_split\n",
    "from sklearn.metrics import mean_squared_error as mse, r2_score as r_2\n",
    "import matplotlib.pyplot as plt\n",
    "from sklearn.linear_model import LinearRegression\n",
    "import os; import warnings\n",
    "warnings.filterwarnings(\"ignore\",category=DeprecationWarning)\n",
    "from sklearn.exceptions import DataConversionWarning\n",
    "warnings.filterwarnings(action='ignore', category=DataConversionWarning)\n",
    "\n",
    "from sklearn.feature_extraction.text import CountVectorizer\n",
    "from sklearn.decomposition import PCA\n",
    "from sklearn.preprocessing import StandardScaler\n",
    "from sklearn.feature_extraction.text import TfidfVectorizer\n",
    "from sklearn.cross_validation import train_test_split\n",
    "from sklearn.model_selection import GridSearchCV\n",
    "from sklearn.model_selection import cross_val_score\n",
    "from sklearn.linear_model import LinearRegression\n",
    "from sklearn.linear_model import Ridge\n",
    "from sklearn.neighbors import KNeighborsRegressor\n",
    "from sklearn.linear_model import Lasso\n",
    "from sklearn.tree import DecisionTreeRegressor\n",
    "from sklearn.ensemble import GradientBoostingRegressor\n",
    "from sklearn.ensemble import AdaBoostRegressor\n",
    "from sklearn.ensemble import ExtraTreesRegressor\n",
    "from sklearn.ensemble import RandomForestRegressor\n",
    "from sklearn.gaussian_process import GaussianProcessRegressor\n",
    "from sklearn.linear_model import ARDRegression\n",
    "from sklearn.ensemble import BaggingRegressor\n",
    "from scipy.cluster.hierarchy import dendrogram, linkage\n",
    "#from wordcloud import WordCloud\n",
    "import matplotlib.pyplot as plt\n",
    "from colorama import Fore, Back, Style \n",
    "from sklearn.metrics import r2_score"
   ]
  },
  {
   "cell_type": "code",
   "execution_count": 2,
   "metadata": {},
   "outputs": [],
   "source": [
    "data = pd.read_csv(\"https://raw.githubusercontent.com/vigneshjmurali/Statistical-Predictive-Modelling/master/Datasets/data2.csv\")\n",
    "#data.head(3)"
   ]
  },
  {
   "cell_type": "markdown",
   "metadata": {},
   "source": [
    "## preprocessing"
   ]
  },
  {
   "cell_type": "code",
   "execution_count": 3,
   "metadata": {},
   "outputs": [
    {
     "name": "stdout",
     "output_type": "stream",
     "text": [
      "(8378, 118)\n"
     ]
    }
   ],
   "source": [
    "print(data.shape)\n",
    "#data.dtypes"
   ]
  },
  {
   "cell_type": "code",
   "execution_count": 4,
   "metadata": {},
   "outputs": [],
   "source": [
    "data[\"match\"]=data[\"match\"].astype('category') # Changing \"Y\"-Salary from Object type to Category type\n",
    "data[\"match_category\"]=data[\"match\"].cat.codes # Assigned encoders adding new columns\n",
    "data=data.select_dtypes(include=['uint8','int64','int8','float64']).copy() # Here i drop the object type to add int and uint type"
   ]
  },
  {
   "cell_type": "code",
   "execution_count": 5,
   "metadata": {},
   "outputs": [
    {
     "name": "stdout",
     "output_type": "stream",
     "text": [
      "(8378, 117)\n",
      "(8378, 1)\n",
      "(6283, 117)\n",
      "(2095, 117)\n",
      "(6283, 1)\n",
      "(2095, 1)\n"
     ]
    }
   ],
   "source": [
    "y_data = pd.DataFrame([data.match_category]).T # TAKING THE SALARY AS THE Y VARIABLE OR TARGET\n",
    "x_data = pd.DataFrame(data) # CONSIDERING ALL THE VARIABLES TO AS X VARIABLES AT FIRST\n",
    "x_data = data.drop(['match_category'], axis = 1) # DROPPING THE SALARY FROM THE X VARIABLES\n",
    "print (x_data.shape) ; print (y_data.shape) # PRINTING THE DIMENTION OF THE BOTH LEFTOVER \"Y\" & \"X\" VARIABLES\n",
    "from sklearn.cross_validation import train_test_split # TRAINING AND TEST SPLIT CROSS VALIDATAION\n",
    "xtrain_data, xtest_data, ytrain_data, ytest_data = train_test_split( \n",
    "    x_data, y_data, random_state = 1, test_size = 0.25) # THE TRAIN AND TEST SPLIT IS 75% AND 25 %\n",
    "print (xtrain_data.shape) ; print (xtest_data.shape) # PRINTING ALL THE X_TRAIN, X_TEST\n",
    "print (ytrain_data.shape) ; print (ytest_data.shape) # PRINTING ALL THE Y_TRAIN, Y_TEST"
   ]
  },
  {
   "cell_type": "markdown",
   "metadata": {},
   "source": [
    "## K Nearest Neighbors"
   ]
  },
  {
   "cell_type": "code",
   "execution_count": 18,
   "metadata": {},
   "outputs": [
    {
     "data": {
      "text/plain": [
       "<matplotlib.legend.Legend at 0x1de83591860>"
      ]
     },
     "execution_count": 18,
     "metadata": {},
     "output_type": "execute_result"
    },
    {
     "data": {
      "image/png": "[encoded data removed]",
      "text/plain": [
       "<Figure size 432x288 with 1 Axes>"
      ]
     },
     "metadata": {
      "needs_background": "light"
     },
     "output_type": "display_data"
    }
   ],
   "source": [
    "training_accuracy = []\n",
    "test_accuracy = []\n",
    "# try n_neighbors from 1 to 14\n",
    "neighbors_settings = range(1, 16)\n",
    "\n",
    "for n_neighbors in neighbors_settings:\n",
    "    # build the model\n",
    "    clf = KNeighborsClassifier(n_neighbors=n_neighbors)\n",
    "    clf.fit(xtrain_data, ytrain_data)\n",
    "    # record training set accuracy\n",
    "    training_accuracy.append(clf.score(xtrain_data, ytrain_data))\n",
    "    # record generalization accuracy\n",
    "    test_accuracy.append(clf.score(xtest_data, ytest_data))\n",
    "    \n",
    "plt.plot(neighbors_settings, training_accuracy, label=\"training accuracy\")\n",
    "plt.plot(neighbors_settings, test_accuracy, label=\"test accuracy\")\n",
    "plt.ylabel(\"Accuracy\")\n",
    "plt.xlabel(\"n_neighbors\")\n",
    "plt.legend()"
   ]
  },
  {
   "cell_type": "code",
   "execution_count": 19,
   "metadata": {},
   "outputs": [
    {
     "name": "stdout",
     "output_type": "stream",
     "text": [
      "Training accuracy = 86.15\n",
      "Testing accuracy = 80.95\n"
     ]
    }
   ],
   "source": [
    "model = KNeighborsClassifier(n_neighbors = 5)\n",
    "model.fit(xtrain_data, ytrain_data)\n",
    "#Evaluating the model on the test data set\n",
    "ymodel_KNN = model.predict(xtest_data)\n",
    "acc_knn1 = round(model.score(xtrain_data, ytrain_data) * 100, 2)\n",
    "print ('Training accuracy = {}'.format(acc_knn1))\n",
    "acc_knn = round(accuracy_score(ytest_data, ymodel_KNN) * 100, 2)\n",
    "print ('Testing accuracy = {}'.format(acc_knn))"
   ]
  },
  {
   "cell_type": "code",
   "execution_count": 20,
   "metadata": {},
   "outputs": [
    {
     "name": "stdout",
     "output_type": "stream",
     "text": [
      "mean accuracy of 1 nearest neighbor(s) is 0.7599 \n",
      "mean accuracy of 3 nearest neighbor(s) is 0.7952 \n",
      "mean accuracy of 5 nearest neighbor(s) is 0.8095 \n",
      "mean accuracy of 7 nearest neighbor(s) is 0.8215 \n",
      "mean accuracy of 9 nearest neighbor(s) is 0.8239 \n",
      "mean accuracy of 11 nearest neighbor(s) is 0.8258 \n",
      "mean accuracy of 15 nearest neighbor(s) is 0.8329 \n",
      "mean accuracy of 17 nearest neighbor(s) is 0.8339 \n",
      "mean accuracy of 19 nearest neighbor(s) is 0.8315 \n",
      "mean accuracy of 21 nearest neighbor(s) is 0.831 \n"
     ]
    }
   ],
   "source": [
    "# KNeighborsClassifier is a class --> go to the source\n",
    "# http://scikit-learn.org/stable/modules/generated/sklearn.neighbors.KNeighborsClassifier.html#sklearn.neighbors.KNeighborsClassifier.score\n",
    "for k in [1, 3, 5, 7, 9,11,15,17,19,21]:\n",
    "    knn = KNeighborsClassifier(n_neighbors = k)\n",
    "    knn.fit(xtrain_data, ytrain_data) #construct the BallTree or KDTree\n",
    "    y_test_pred = knn.predict(xtest_data)\n",
    "    cfm = confusion_matrix(ytest_data, y_test_pred)\n",
    "    #print('KNN confusion matrix for test set\\n', cfm)\n",
    "    mean_acc = knn.score(xtest_data, ytest_data)\n",
    "    print('mean accuracy of {} nearest neighbor(s) is {} '.format(k, round(mean_acc, 4)))"
   ]
  },
  {
   "cell_type": "code",
   "execution_count": 21,
   "metadata": {},
   "outputs": [
    {
     "data": {
      "text/plain": [
       "0.5269482107280825"
      ]
     },
     "execution_count": 21,
     "metadata": {},
     "output_type": "execute_result"
    }
   ],
   "source": [
    "#get area under roc curve from model used above\n",
    "roc_auc_score(ytest_data, ymodel_KNN)"
   ]
  },
  {
   "cell_type": "code",
   "execution_count": 22,
   "metadata": {},
   "outputs": [
    {
     "data": {
      "text/plain": [
       "[<matplotlib.lines.Line2D at 0x1de85e39518>]"
      ]
     },
     "execution_count": 22,
     "metadata": {},
     "output_type": "execute_result"
    },
    {
     "data": {
      "image/png": "[encoded data removed]",
      "text/plain": [
       "<Figure size 216x216 with 1 Axes>"
      ]
     },
     "metadata": {
      "needs_background": "light"
     },
     "output_type": "display_data"
    }
   ],
   "source": [
    "le = preprocessing.LabelEncoder() ; y2 = le.fit_transform(ymodel_KNN)\n",
    "from sklearn import metrics\n",
    "plt.figure(figsize = (3, 3))\n",
    "fpr, tpr, thresholds = metrics.roc_curve(y1, y2)\n",
    "plt.plot(fpr, tpr)"
   ]
  },
  {
   "cell_type": "code",
   "execution_count": 23,
   "metadata": {},
   "outputs": [
    {
     "name": "stdout",
     "output_type": "stream",
     "text": [
      "k: 1. Recall: 0.54 (+/- 0.03)\n",
      "k: 3. Recall: 0.57 (+/- 0.05)\n",
      "k: 5. Recall: 0.54 (+/- 0.04)\n",
      "k: 7. Recall: 0.51 (+/- 0.06)\n",
      "k: 9. Recall: 0.49 (+/- 0.07)\n"
     ]
    }
   ],
   "source": [
    "for k in [1, 3, 5, 7, 9]:\n",
    "    knn = KNeighborsClassifier(n_neighbors = k)\n",
    "    scores = cross_val_score(knn, xtest_data, ytest_data, cv=5, scoring = 'precision_macro')\n",
    "    #print(scores)\n",
    "    print(\"k: %d. Recall: %0.2f (+/- %0.2f)\" % (k, scores.mean(), scores.std()))"
   ]
  },
  {
   "cell_type": "markdown",
   "metadata": {},
   "source": [
    "## Naive Bayes"
   ]
  },
  {
   "cell_type": "code",
   "execution_count": 24,
   "metadata": {},
   "outputs": [
    {
     "name": "stdout",
     "output_type": "stream",
     "text": [
      "Training accuracy = 97.98\n",
      "Testing accuracy = 98.14\n"
     ]
    },
    {
     "data": {
      "text/plain": [
       "0.9441260744985673"
      ]
     },
     "execution_count": 24,
     "metadata": {},
     "output_type": "execute_result"
    }
   ],
   "source": [
    "model = GaussianNB()\n",
    "model.fit(xtrain_data, ytrain_data)\n",
    "ymodel_NB = model.predict(xtest_data)\n",
    "acc_gauss1 = round(model.score(xtrain_data, ytrain_data) * 100, 2)\n",
    "print ('Training accuracy = {}'.format(acc_gauss1))\n",
    "acc_gauss = round(accuracy_score(ytest_data, ymodel_NB) * 100, 2)\n",
    "print ('Testing accuracy = {}'.format(acc_gauss))\n",
    "#get area under roc curve from model used above\n",
    "roc_auc_score(ytest_data, ymodel_NB)"
   ]
  },
  {
   "cell_type": "code",
   "execution_count": 25,
   "metadata": {},
   "outputs": [
    {
     "data": {
      "text/plain": [
       "[<matplotlib.lines.Line2D at 0x1de862e67b8>]"
      ]
     },
     "execution_count": 25,
     "metadata": {},
     "output_type": "execute_result"
    },
    {
     "data": {
      "image/png": "[encoded data removed]",
      "text/plain": [
       "<Figure size 216x216 with 1 Axes>"
      ]
     },
     "metadata": {
      "needs_background": "light"
     },
     "output_type": "display_data"
    }
   ],
   "source": [
    "from sklearn import preprocessing\n",
    "le = preprocessing.LabelEncoder()\n",
    "y1 = le.fit_transform(ytest_data)\n",
    "y2 = le.fit_transform(ymodel_NB)\n",
    "from sklearn import metrics\n",
    "plt.figure(figsize = (3, 3))\n",
    "fpr, tpr, thresholds = metrics.roc_curve(y1, y2)\n",
    "plt.plot(fpr, tpr)"
   ]
  },
  {
   "cell_type": "code",
   "execution_count": 26,
   "metadata": {},
   "outputs": [
    {
     "name": "stdout",
     "output_type": "stream",
     "text": [
      "Average cross-validation score: 0.98\n"
     ]
    }
   ],
   "source": [
    "scores = cross_val_score(model, x_data, y_data, cv=5)\n",
    "print(\"Average cross-validation score: {:.2f}\".format(scores.mean()))"
   ]
  },
  {
   "cell_type": "markdown",
   "metadata": {},
   "source": [
    "## Logistic Regression"
   ]
  },
  {
   "cell_type": "code",
   "execution_count": 27,
   "metadata": {},
   "outputs": [
    {
     "name": "stdout",
     "output_type": "stream",
     "text": [
      "Training set score: 1.000\n",
      "Test set score: 1.000\n"
     ]
    },
    {
     "data": {
      "text/plain": [
       "1.0"
      ]
     },
     "execution_count": 27,
     "metadata": {},
     "output_type": "execute_result"
    }
   ],
   "source": [
    "logreg = LogisticRegression().fit(xtrain_data, ytrain_data)\n",
    "y_model_log = logreg.predict(xtest_data)\n",
    "print(\"Training set score: {:.3f}\".format(logreg.score(xtrain_data, ytrain_data)))\n",
    "print(\"Test set score: {:.3f}\".format(logreg.score(xtest_data, ytest_data)))\n",
    "#get area under roc curve from model used above\n",
    "roc_auc_score(ytest_data, y_model_log)"
   ]
  },
  {
   "cell_type": "code",
   "execution_count": 28,
   "metadata": {},
   "outputs": [
    {
     "data": {
      "text/plain": [
       "[<matplotlib.lines.Line2D at 0x1de858bd898>]"
      ]
     },
     "execution_count": 28,
     "metadata": {},
     "output_type": "execute_result"
    },
    {
     "data": {
      "image/png": "[encoded data removed]",
      "text/plain": [
       "<Figure size 216x216 with 1 Axes>"
      ]
     },
     "metadata": {
      "needs_background": "light"
     },
     "output_type": "display_data"
    }
   ],
   "source": [
    "le = preprocessing.LabelEncoder() ;y2 = le.fit_transform(y_model_log)\n",
    "from sklearn import metrics\n",
    "plt.figure(figsize = (3, 3))\n",
    "fpr, tpr, thresholds = metrics.roc_curve(y1, y2)\n",
    "plt.plot(fpr, tpr)"
   ]
  },
  {
   "cell_type": "code",
   "execution_count": null,
   "metadata": {},
   "outputs": [
    {
     "name": "stdout",
     "output_type": "stream",
     "text": [
      "Fitting 3 folds for each of 14 candidates, totalling 42 fits\n"
     ]
    }
   ],
   "source": [
    "rs = 0\n",
    "logitR = LogisticRegression(random_state = rs)\n",
    "\n",
    "param_grid = {\n",
    "            'penalty' : ['l2','l1'],  \n",
    "            'C' : [0.001, 0.01, 0.1, 1, 10, 100, 1000]}\n",
    "clf = GridSearchCV(estimator = logitR, cv = 3, param_grid = param_grid , scoring = 'accuracy', verbose = 1)\n",
    "clf.fit(xtrain_data, ytrain_data)"
   ]
  },
  {
   "cell_type": "code",
   "execution_count": null,
   "metadata": {},
   "outputs": [],
   "source": [
    "# 2. Parameters and methods in GridSearchCV class\n",
    "# 2.1 parameters\n",
    "clf.cv_results_  # output the results (average and all folds)\n",
    "print('mean test scores: ', clf.cv_results_['mean_test_score']) # average test score on all folds\n",
    "print('best score: ', clf.best_score_)\n",
    "print('best  parameters: ', clf.best_params_)\n",
    "print('best  parameters: ', clf.scorer_)\n",
    "# 2.2 methods of class GridSearchCV\n",
    "# fit(X,y) # train models for all combinations of parameters using k-fold cross-validation\n",
    "# predict(X,y) # use the model with the best found parameter"
   ]
  },
  {
   "cell_type": "code",
   "execution_count": null,
   "metadata": {},
   "outputs": [],
   "source": [
    "def show_metrics(cm):\n",
    "    '''This function calculates the accuracy, precision, recall ratio and F1 score using the \n",
    "    confusion matrix of a two-class problems.\n",
    "    Malignant tumors and benign tumors are negative\n",
    "\n",
    "    :param cm: 2*2 confision matrix \n",
    "    '''    \n",
    "\n",
    "    tp = cm[1,1] #true postive (true label)1-->1(prediction)\n",
    "    fn = cm[1,0] #false negative 1-->0\n",
    "    fp = cm[0,1] #false positive 0-->1\n",
    "    tn = cm[0,0] #true negative  0-->0\n",
    "    \n",
    "    precision = tp/(tp+fp)\n",
    "    recallR = tp/(tp+fn)\n",
    "    acc = (tp+tn)/(tp+tn+fp+fn)\n",
    "    print('Accuracy  =    {:.3f}'.format(acc))\n",
    "    print('Precision =    {:.3f}'.format(precision))\n",
    "    print('Recall ratio = {:.3f}'.format(recallR))\n",
    "    print('F1_score =    {:.3f}'.format(2*(recallR * precision)/(recallR + precision)))"
   ]
  },
  {
   "cell_type": "code",
   "execution_count": 26,
   "metadata": {},
   "outputs": [
    {
     "name": "stdout",
     "output_type": "stream",
     "text": [
      "[[1746    0]\n",
      " [   0  349]]\n",
      "Accuracy  =    1.000\n",
      "Precision =    1.000\n",
      "Recall ratio = 1.000\n",
      "F1_score =    1.000\n"
     ]
    }
   ],
   "source": [
    "best_ps =clf.best_params_\n",
    "best_clf = LogisticRegression(C = best_ps['C'], \n",
    "                                penalty = best_ps['penalty'], \n",
    "                                random_state = rs)\n",
    "best_clf.fit(xtrain_data, ytrain_data)\n",
    "y_test_pred = best_clf.predict(xtest_data)\n",
    "cm = confusion_matrix(ytest_data, y_test_pred)\n",
    "print(cm)\n",
    "show_metrics(cm)"
   ]
  },
  {
   "cell_type": "code",
   "execution_count": 27,
   "metadata": {},
   "outputs": [
    {
     "name": "stdout",
     "output_type": "stream",
     "text": [
      "Training set score: 0.963\n",
      "Test set score: 0.958\n"
     ]
    },
    {
     "data": {
      "text/plain": [
       "1.0"
      ]
     },
     "execution_count": 27,
     "metadata": {},
     "output_type": "execute_result"
    }
   ],
   "source": [
    "logreg001 = LogisticRegression(C=0.01).fit(xtrain_data, ytrain_data)\n",
    "y_model_log_001 = logreg.predict(xtest_data)\n",
    "print(\"Training set score: {:.3f}\".format(logreg001.score(xtrain_data, ytrain_data)))\n",
    "print(\"Test set score: {:.3f}\".format(logreg001.score(xtest_data, ytest_data)))\n",
    "#get area under roc curve from model used above\n",
    "roc_auc_score(ytest_data, y_model_log_001)"
   ]
  },
  {
   "cell_type": "code",
   "execution_count": 28,
   "metadata": {},
   "outputs": [
    {
     "data": {
      "text/plain": [
       "[<matplotlib.lines.Line2D at 0x24ebe065e48>]"
      ]
     },
     "execution_count": 28,
     "metadata": {},
     "output_type": "execute_result"
    },
    {
     "data": {
      "image/png": "[encoded data removed]",
      "text/plain": [
       "<Figure size 216x216 with 1 Axes>"
      ]
     },
     "metadata": {
      "needs_background": "light"
     },
     "output_type": "display_data"
    }
   ],
   "source": []
  },
  {
   "cell_type": "markdown",
   "metadata": {},
   "source": [
    "## Decision Tree"
   ]
  },
  {
   "cell_type": "code",
   "execution_count": 34,
   "metadata": {},
   "outputs": [
    {
     "name": "stdout",
     "output_type": "stream",
     "text": [
      "Accuracy on training set: 1.000\n",
      "Accuracy on test set: 1.000\n"
     ]
    },
    {
     "data": {
      "text/plain": [
       "1.0"
      ]
     },
     "execution_count": 34,
     "metadata": {},
     "output_type": "execute_result"
    }
   ],
   "source": [
    "tree = DecisionTreeClassifier(random_state=0)\n",
    "tree.fit(xtrain_data, ytrain_data)\n",
    "y_model_dectree = tree.predict(xtest_data)\n",
    "print(\"Accuracy on training set: {:.3f}\".format(tree.score(xtrain_data, ytrain_data)))\n",
    "print(\"Accuracy on test set: {:.3f}\".format(tree.score(xtest_data, ytest_data)))\n",
    "#get area under roc curve from model used above\n",
    "roc_auc_score(ytest_data, y_model_dectree)"
   ]
  },
  {
   "cell_type": "code",
   "execution_count": 35,
   "metadata": {},
   "outputs": [
    {
     "data": {
      "text/plain": [
       "[<matplotlib.lines.Line2D at 0x24ebe80d5f8>]"
      ]
     },
     "execution_count": 35,
     "metadata": {},
     "output_type": "execute_result"
    },
    {
     "data": {
      "image/png": "[encoded data removed]",
      "text/plain": [
       "<Figure size 216x216 with 1 Axes>"
      ]
     },
     "metadata": {
      "needs_background": "light"
     },
     "output_type": "display_data"
    }
   ],
   "source": [
    "le = preprocessing.LabelEncoder() ;y2 = le.fit_transform(y_model_dectree)\n",
    "from sklearn import metrics\n",
    "plt.figure(figsize = (3, 3))\n",
    "fpr, tpr, thresholds = metrics.roc_curve(y1, y2)\n",
    "plt.plot(fpr, tpr)"
   ]
  },
  {
   "cell_type": "code",
   "execution_count": 32,
   "metadata": {},
   "outputs": [
    {
     "name": "stdout",
     "output_type": "stream",
     "text": [
      "Results of the OLS:\n",
      "MSE Train:  0.056\n",
      "MSE Test:  0.059\n",
      "R^2 Train:  0.591\n",
      "R^2 Test:  0.578\n"
     ]
    }
   ],
   "source": [
    "# Evaluation function\n",
    "def regression_metrics(y_train, y_train_pred, y_test, y_test_pred):\n",
    "    print('MSE Train: ', round(mse(y_train, y_train_pred), 3))\n",
    "    print('MSE Test: ', round(mse(y_test, y_test_pred), 3))\n",
    "\n",
    "    print('R^2 Train: ', round(r_2(y_train, y_train_pred), 3))\n",
    "    print('R^2 Test: ', round(r_2(y_test, y_test_pred), 3))\n",
    "\n",
    "# OLS: ordinary least squares\n",
    "slr = LinearRegression()\n",
    "slr.fit(xtrain_data, ytrain_data)\n",
    "y_train_pred = slr.predict(xtrain_data)\n",
    "y_test_pred = slr.predict(xtest_data)\n",
    "\n",
    "print('Results of the OLS:')\n",
    "regression_metrics(ytrain_data, y_train_pred, ytest_data, y_test_pred)"
   ]
  },
  {
   "cell_type": "markdown",
   "metadata": {},
   "source": [
    "## Random Forest"
   ]
  },
  {
   "cell_type": "code",
   "execution_count": 36,
   "metadata": {},
   "outputs": [
    {
     "name": "stdout",
     "output_type": "stream",
     "text": [
      "Accuracy on training set: 1.000\n",
      "Accuracy on test set: 0.994\n"
     ]
    },
    {
     "data": {
      "text/plain": [
       "0.9828080229226361"
      ]
     },
     "execution_count": 36,
     "metadata": {},
     "output_type": "execute_result"
    }
   ],
   "source": [
    "forest = RandomForestClassifier(n_estimators=100, random_state=0)\n",
    "forest.fit(xtrain_data, ytrain_data)\n",
    "y_model_randomfor = forest.predict(xtest_data)\n",
    "print(\"Accuracy on training set: {:.3f}\".format(forest.score(xtrain_data, ytrain_data)))\n",
    "print(\"Accuracy on test set: {:.3f}\".format(forest.score(xtest_data, ytest_data)))\n",
    "roc_auc_score(ytest_data, y_model_randomfor)"
   ]
  },
  {
   "cell_type": "code",
   "execution_count": 37,
   "metadata": {},
   "outputs": [
    {
     "data": {
      "text/plain": [
       "[<matplotlib.lines.Line2D at 0x24ebe86e710>]"
      ]
     },
     "execution_count": 37,
     "metadata": {},
     "output_type": "execute_result"
    },
    {
     "data": {
      "image/png": "[encoded data removed]",
      "text/plain": [
       "<Figure size 216x216 with 1 Axes>"
      ]
     },
     "metadata": {
      "needs_background": "light"
     },
     "output_type": "display_data"
    }
   ],
   "source": [
    "le = preprocessing.LabelEncoder(); y2 = le.fit_transform(y_model_randomfor)\n",
    "from sklearn import metrics\n",
    "plt.figure(figsize = (3, 3))\n",
    "fpr, tpr, thresholds = metrics.roc_curve(y1, y2)\n",
    "plt.plot(fpr, tpr)"
   ]
  },
  {
   "cell_type": "markdown",
   "metadata": {},
   "source": [
    "## Support Vector Machine (SVM)"
   ]
  },
  {
   "cell_type": "code",
   "execution_count": 31,
   "metadata": {},
   "outputs": [
    {
     "name": "stdout",
     "output_type": "stream",
     "text": [
      "Accuracy on training set: 1.00\n",
      "Accuracy on test set: 0.83\n"
     ]
    }
   ],
   "source": [
    "svc = SVC(C=1000)\n",
    "svc.fit(xtrain_data, ytrain_data)\n",
    "print(\"Accuracy on training set: {:.2f}\".format(svc.score(xtrain_data, ytrain_data)))\n",
    "print(\"Accuracy on test set: {:.2f}\".format(svc.score(xtest_data, ytest_data)))"
   ]
  },
  {
   "cell_type": "code",
   "execution_count": 32,
   "metadata": {},
   "outputs": [
    {
     "name": "stdout",
     "output_type": "stream",
     "text": [
      "Confusion matrix:\n",
      " [[1746    0]\n",
      " [   0  349]]\n",
      "Accuracy  =    1.000\n",
      "Precision =    1.000\n",
      "Recall ratio = 1.000\n",
      "F1_score =    1.000\n"
     ]
    },
    {
     "data": {
      "text/plain": [
       "1.0"
      ]
     },
     "execution_count": 32,
     "metadata": {},
     "output_type": "execute_result"
    }
   ],
   "source": [
    "y_test_pred = clf.predict(xtest_data)\n",
    "cm = confusion_matrix(ytest_data, y_test_pred)\n",
    "print('Confusion matrix:\\n', cm)\n",
    "show_metrics(cm)\n",
    "roc_auc_score(ytest_data,y_test_pred)"
   ]
  },
  {
   "cell_type": "code",
   "execution_count": 33,
   "metadata": {},
   "outputs": [
    {
     "data": {
      "text/plain": [
       "[<matplotlib.lines.Line2D at 0x24ebe7b57b8>]"
      ]
     },
     "execution_count": 33,
     "metadata": {},
     "output_type": "execute_result"
    },
    {
     "data": {
      "image/png": "[encoded data removed]",
      "text/plain": [
       "<Figure size 216x216 with 1 Axes>"
      ]
     },
     "metadata": {
      "needs_background": "light"
     },
     "output_type": "display_data"
    }
   ],
   "source": [
    "y_pred_SVC = svc.predict(xtest_data)\n",
    "le = preprocessing.LabelEncoder() ; y2 = le.fit_transform(y_pred_SVC)\n",
    "from sklearn import metrics\n",
    "plt.figure(figsize = (3, 3))\n",
    "fpr, tpr, thresholds = metrics.roc_curve(y1, y2)\n",
    "plt.plot(fpr, tpr)"
   ]
  },
  {
   "cell_type": "markdown",
   "metadata": {},
   "source": [
    " ## Neural Networks"
   ]
  },
  {
   "cell_type": "code",
   "execution_count": 38,
   "metadata": {},
   "outputs": [
    {
     "name": "stdout",
     "output_type": "stream",
     "text": [
      "Accuracy on training set: 0.82\n",
      "Accuracy on test set: 0.81\n"
     ]
    },
    {
     "data": {
      "text/plain": [
       "0.8172482661966609"
      ]
     },
     "execution_count": 38,
     "metadata": {},
     "output_type": "execute_result"
    }
   ],
   "source": [
    "mlp = MLPClassifier(random_state=42)\n",
    "mlp.fit(xtrain_data, ytrain_data)\n",
    "y_model_NN = mlp.predict(xtest_data)\n",
    "print(\"Accuracy on training set: {:.2f}\".format(mlp.score(xtrain_data, ytrain_data)))\n",
    "print(\"Accuracy on test set: {:.2f}\".format(mlp.score(xtest_data, ytest_data)))\n",
    "roc_auc_score(ytest_data, y_model_NN)"
   ]
  },
  {
   "cell_type": "code",
   "execution_count": 39,
   "metadata": {},
   "outputs": [
    {
     "data": {
      "text/plain": [
       "[<matplotlib.lines.Line2D at 0x24ebe8d5160>]"
      ]
     },
     "execution_count": 39,
     "metadata": {},
     "output_type": "execute_result"
    },
    {
     "data": {
      "image/png": "[encoded data removed]",
      "text/plain": [
       "<Figure size 216x216 with 1 Axes>"
      ]
     },
     "metadata": {
      "needs_background": "light"
     },
     "output_type": "display_data"
    }
   ],
   "source": [
    "le = preprocessing.LabelEncoder();y2 = le.fit_transform(y_model_NN)\n",
    "from sklearn import metrics\n",
    "plt.figure(figsize = (3, 3))\n",
    "fpr, tpr, thresholds = metrics.roc_curve(y1, y2)\n",
    "plt.plot(fpr, tpr)"
   ]
  },
  {
   "cell_type": "markdown",
   "metadata": {},
   "source": [
    "## Gradient Boosting Classifier"
   ]
  },
  {
   "cell_type": "code",
   "execution_count": null,
   "metadata": {},
   "outputs": [],
   "source": []
  },
  {
   "cell_type": "code",
   "execution_count": 37,
   "metadata": {},
   "outputs": [
    {
     "name": "stdout",
     "output_type": "stream",
     "text": [
      "Accuracy on training set: 1.000\n",
      "Accuracy on test set: 1.000\n"
     ]
    },
    {
     "data": {
      "text/plain": [
       "1.0"
      ]
     },
     "execution_count": 37,
     "metadata": {},
     "output_type": "execute_result"
    }
   ],
   "source": [
    "gbrt = GradientBoostingClassifier(random_state=0)\n",
    "gbrt.fit(xtrain_data, ytrain_data)\n",
    "y_model = gbrt.predict(xtest_data)\n",
    "print(\"Accuracy on training set: {:.3f}\".format(gbrt.score(xtrain_data, ytrain_data)))\n",
    "print(\"Accuracy on test set: {:.3f}\".format(gbrt.score(xtest_data, ytest_data)))\n",
    "#get area under roc curve from model used above\n",
    "roc_auc_score(ytest_data, y_model)"
   ]
  },
  {
   "cell_type": "markdown",
   "metadata": {},
   "source": [
    "## Linear Regression"
   ]
  },
  {
   "cell_type": "code",
   "execution_count": 39,
   "metadata": {},
   "outputs": [
    {
     "name": "stdout",
     "output_type": "stream",
     "text": [
      "Training set score: 0.59\n",
      "Test set score: 0.58\n",
      "\u001b[34mAverage cross-validation score: 0.56\n"
     ]
    }
   ],
   "source": [
    "lr = LinearRegression().fit(xtrain_data, ytrain_data)\n",
    "print(\"Training set score: {:.2f}\".format(lr.score(xtrain_data, ytrain_data)))\n",
    "print(\"Test set score: {:.2f}\".format(lr.score(xtest_data, ytest_data)))\n",
    "scores = cross_val_score(lr, x_data, y_data, cv=5)\n",
    "print(Fore.BLUE + \"Average cross-validation score: {:.2f}\".format(scores.mean()))"
   ]
  },
  {
   "cell_type": "markdown",
   "metadata": {},
   "source": [
    "## Ridge Regression"
   ]
  },
  {
   "cell_type": "code",
   "execution_count": 40,
   "metadata": {},
   "outputs": [
    {
     "name": "stdout",
     "output_type": "stream",
     "text": [
      "Training set score: 0.59\n",
      "Test set score: 0.58\n",
      "\u001b[34mAverage cross-validation score: 0.56\n"
     ]
    }
   ],
   "source": [
    "ridge = Ridge().fit(xtrain_data, ytrain_data)\n",
    "print(\"Training set score: {:.2f}\".format(ridge.score(xtrain_data, ytrain_data)))\n",
    "print(\"Test set score: {:.2f}\".format(ridge.score(xtest_data, ytest_data)))\n",
    "scores = cross_val_score(ridge, x_data, y_data, cv=5)\n",
    "print(Fore.BLUE +\"Average cross-validation score: {:.2f}\".format(scores.mean()))"
   ]
  },
  {
   "cell_type": "markdown",
   "metadata": {},
   "source": [
    "## KNN"
   ]
  },
  {
   "cell_type": "code",
   "execution_count": 41,
   "metadata": {},
   "outputs": [
    {
     "name": "stdout",
     "output_type": "stream",
     "text": [
      "Test set R^2: -0.21\n",
      "\u001b[34mAverage cross-validation score: -0.36\n"
     ]
    }
   ],
   "source": [
    "# instantiate the model and set the number of neighbors to consider to 3:\n",
    "reg = KNeighborsRegressor(n_neighbors=3)\n",
    "# fit the model using the training data and training targets:\n",
    "reg.fit(xtrain_data, ytrain_data)\n",
    "print(\"Test set R^2: {:.2f}\".format(reg.score(xtest_data, ytest_data)))\n",
    "scores = cross_val_score(reg, x_data, y_data, cv=5)\n",
    "print(Fore.BLUE +\"Average cross-validation score: {:.2f}\".format(scores.mean()))"
   ]
  },
  {
   "cell_type": "markdown",
   "metadata": {},
   "source": [
    "## Lasso"
   ]
  },
  {
   "cell_type": "code",
   "execution_count": 42,
   "metadata": {},
   "outputs": [
    {
     "name": "stdout",
     "output_type": "stream",
     "text": [
      "Training set score: 0.00\n",
      "Test set score: -0.00\n",
      "Number of features used: 1\n",
      "\u001b[34mAverage cross-validation score: -0.00\n"
     ]
    }
   ],
   "source": [
    "lasso = Lasso().fit(xtrain_data, ytrain_data)\n",
    "print(\"Training set score: {:.2f}\".format(lasso.score(xtrain_data, ytrain_data)))\n",
    "print(\"Test set score: {:.2f}\".format(lasso.score(xtest_data, ytest_data)))\n",
    "print(\"Number of features used: {}\".format(np.sum(lasso.coef_ != 0)))\n",
    "scores = cross_val_score(lasso, x_data,y_data, cv=5)\n",
    "print(Fore.BLUE +\"Average cross-validation score: {:.2f}\".format(scores.mean()))"
   ]
  },
  {
   "cell_type": "markdown",
   "metadata": {},
   "source": [
    "## Decision Tree Regression"
   ]
  },
  {
   "cell_type": "code",
   "execution_count": 43,
   "metadata": {},
   "outputs": [
    {
     "name": "stdout",
     "output_type": "stream",
     "text": [
      "Training set score: 1.00\n",
      "Test set score: 1.00\n",
      "\u001b[34mAverage cross-validation score: 1.00\n"
     ]
    }
   ],
   "source": [
    "tree = DecisionTreeRegressor().fit(xtrain_data, ytrain_data)\n",
    "print(\"Training set score: {:.2f}\".format(tree.score(xtrain_data, ytrain_data)))\n",
    "print(\"Test set score: {:.2f}\".format(tree.score(xtest_data, ytest_data)))\n",
    "scores = cross_val_score(tree, x_data,y_data, cv=5)\n",
    "print(Fore.BLUE +\"Average cross-validation score: {:.2f}\".format(scores.mean()))"
   ]
  },
  {
   "cell_type": "markdown",
   "metadata": {},
   "source": [
    "## Random Forest Regressor"
   ]
  },
  {
   "cell_type": "code",
   "execution_count": 44,
   "metadata": {},
   "outputs": [
    {
     "name": "stdout",
     "output_type": "stream",
     "text": [
      "Training set score: 1.00\n",
      "Test set score: 1.00\n",
      "\u001b[34mAverage cross-validation score: 1.00\n"
     ]
    }
   ],
   "source": [
    "rfr = RandomForestRegressor().fit(xtrain_data, ytrain_data)\n",
    "print(\"Training set score: {:.2f}\".format(rfr.score(xtrain_data, ytrain_data)))\n",
    "print(\"Test set score: {:.2f}\".format(rfr.score(xtest_data, ytest_data)))\n",
    "scores = cross_val_score(rfr, x_data,y_data, cv=5)\n",
    "print(Fore.BLUE +\"Average cross-validation score: {:.2f}\".format(scores.mean()))"
   ]
  },
  {
   "cell_type": "markdown",
   "metadata": {},
   "source": [
    "## Bagging Regressor"
   ]
  },
  {
   "cell_type": "code",
   "execution_count": 45,
   "metadata": {},
   "outputs": [
    {
     "name": "stdout",
     "output_type": "stream",
     "text": [
      "Training set score: 1.00\n",
      "Test set score: 1.00\n",
      "\u001b[34mAverage cross-validation score: 1.00\n"
     ]
    }
   ],
   "source": [
    "bingr = BaggingRegressor().fit(xtrain_data, ytrain_data)\n",
    "print(\"Training set score: {:.2f}\".format(bingr.score(xtrain_data, ytrain_data)))\n",
    "print(\"Test set score: {:.2f}\".format(bingr.score(xtest_data, ytest_data)))\n",
    "scores = cross_val_score(bingr, x_data,y_data, cv=5)\n",
    "print(Fore.BLUE +\"Average cross-validation score: {:.2f}\".format(scores.mean()))"
   ]
  },
  {
   "cell_type": "markdown",
   "metadata": {},
   "source": [
    "## Gaussian Process Regressor"
   ]
  },
  {
   "cell_type": "code",
   "execution_count": 46,
   "metadata": {},
   "outputs": [
    {
     "name": "stdout",
     "output_type": "stream",
     "text": [
      "Training set score: 1.00\n",
      "Test set score: -0.20\n"
     ]
    }
   ],
   "source": [
    "gpr = GaussianProcessRegressor().fit(xtrain_data, ytrain_data)\n",
    "print(\"Training set score: {:.2f}\".format(gpr.score(xtrain_data, ytrain_data)))\n",
    "print(\"Test set score: {:.2f}\".format(gpr.score(xtest_data, ytest_data)))"
   ]
  },
  {
   "cell_type": "markdown",
   "metadata": {},
   "source": [
    "## Ada Boost Regressor"
   ]
  },
  {
   "cell_type": "code",
   "execution_count": 47,
   "metadata": {},
   "outputs": [
    {
     "name": "stdout",
     "output_type": "stream",
     "text": [
      "Training set score: 1.00\n",
      "Test set score: 1.00\n"
     ]
    }
   ],
   "source": [
    "abtr = AdaBoostRegressor().fit(xtrain_data, ytrain_data)\n",
    "print(\"Training set score: {:.2f}\".format(abtr.score(xtrain_data, ytrain_data)))\n",
    "print(\"Test set score: {:.2f}\".format(abtr.score(xtest_data, ytest_data)))"
   ]
  },
  {
   "cell_type": "code",
   "execution_count": 53,
   "metadata": {},
   "outputs": [
    {
     "data": {
      "text/html": [
       "<div>\n",
       "<style scoped>\n",
       "    .dataframe tbody tr th:only-of-type {\n",
       "        vertical-align: middle;\n",
       "    }\n",
       "\n",
       "    .dataframe tbody tr th {\n",
       "        vertical-align: top;\n",
       "    }\n",
       "\n",
       "    .dataframe thead th {\n",
       "        text-align: right;\n",
       "    }\n",
       "</style>\n",
       "<table border=\"1\" class=\"dataframe\">\n",
       "  <thead>\n",
       "    <tr style=\"text-align: right;\">\n",
       "      <th></th>\n",
       "      <th>NameModel</th>\n",
       "      <th>Training_Score</th>\n",
       "      <th>Testing_score</th>\n",
       "      <th>Cross_Validataion_Score</th>\n",
       "    </tr>\n",
       "  </thead>\n",
       "  <tbody>\n",
       "    <tr>\n",
       "      <th>0</th>\n",
       "      <td>Ridge Regression</td>\n",
       "      <td>59</td>\n",
       "      <td>58</td>\n",
       "      <td>0.56</td>\n",
       "    </tr>\n",
       "    <tr>\n",
       "      <th>1</th>\n",
       "      <td>Lasso</td>\n",
       "      <td>0</td>\n",
       "      <td>0</td>\n",
       "      <td>0.00</td>\n",
       "    </tr>\n",
       "    <tr>\n",
       "      <th>2</th>\n",
       "      <td>Bagging</td>\n",
       "      <td>100</td>\n",
       "      <td>100</td>\n",
       "      <td>1.00</td>\n",
       "    </tr>\n",
       "    <tr>\n",
       "      <th>3</th>\n",
       "      <td>AdaBoost</td>\n",
       "      <td>100</td>\n",
       "      <td>100</td>\n",
       "      <td>1.00</td>\n",
       "    </tr>\n",
       "  </tbody>\n",
       "</table>\n",
       "</div>"
      ],
      "text/plain": [
       "          NameModel  Training_Score  Testing_score  Cross_Validataion_Score\n",
       "0  Ridge Regression              59             58                     0.56\n",
       "1             Lasso               0              0                     0.00\n",
       "2           Bagging             100            100                     1.00\n",
       "3          AdaBoost             100            100                     1.00"
      ]
     },
     "execution_count": 53,
     "metadata": {},
     "output_type": "execute_result"
    }
   ],
   "source": [
    "othermodels=pd.DataFrame({'NameModel':['Ridge Regression','Lasso','Bagging','AdaBoost'],\n",
    "                      'Training_Score':[59,0,100,100],\n",
    "                      'Testing_score':[58,0,100,100],\n",
    "                      'Cross_Validataion_Score':[0.56,0,1,1]});othermodels"
   ]
  },
  {
   "cell_type": "code",
   "execution_count": 47,
   "metadata": {},
   "outputs": [
    {
     "data": {
      "text/html": [
       "<div>\n",
       "<style scoped>\n",
       "    .dataframe tbody tr th:only-of-type {\n",
       "        vertical-align: middle;\n",
       "    }\n",
       "\n",
       "    .dataframe tbody tr th {\n",
       "        vertical-align: top;\n",
       "    }\n",
       "\n",
       "    .dataframe thead th {\n",
       "        text-align: right;\n",
       "    }\n",
       "</style>\n",
       "<table border=\"1\" class=\"dataframe\">\n",
       "  <thead>\n",
       "    <tr style=\"text-align: right;\">\n",
       "      <th></th>\n",
       "      <th>NameModel</th>\n",
       "      <th>Training_Score</th>\n",
       "      <th>Testing_Score</th>\n",
       "    </tr>\n",
       "  </thead>\n",
       "  <tbody>\n",
       "    <tr>\n",
       "      <th>0</th>\n",
       "      <td>Gaussian Naive Bayes</td>\n",
       "      <td>97</td>\n",
       "      <td>98</td>\n",
       "    </tr>\n",
       "    <tr>\n",
       "      <th>1</th>\n",
       "      <td>Logistic Regression</td>\n",
       "      <td>100</td>\n",
       "      <td>100</td>\n",
       "    </tr>\n",
       "    <tr>\n",
       "      <th>2</th>\n",
       "      <td>KNN</td>\n",
       "      <td>86</td>\n",
       "      <td>83</td>\n",
       "    </tr>\n",
       "    <tr>\n",
       "      <th>3</th>\n",
       "      <td>Decision Tree</td>\n",
       "      <td>100</td>\n",
       "      <td>100</td>\n",
       "    </tr>\n",
       "    <tr>\n",
       "      <th>4</th>\n",
       "      <td>Random Forest</td>\n",
       "      <td>100</td>\n",
       "      <td>99</td>\n",
       "    </tr>\n",
       "    <tr>\n",
       "      <th>5</th>\n",
       "      <td>Gradient Boosting Classifier</td>\n",
       "      <td>100</td>\n",
       "      <td>100</td>\n",
       "    </tr>\n",
       "    <tr>\n",
       "      <th>6</th>\n",
       "      <td>Support Vector Machine</td>\n",
       "      <td>100</td>\n",
       "      <td>83</td>\n",
       "    </tr>\n",
       "    <tr>\n",
       "      <th>7</th>\n",
       "      <td>Neural Networks</td>\n",
       "      <td>82</td>\n",
       "      <td>81</td>\n",
       "    </tr>\n",
       "  </tbody>\n",
       "</table>\n",
       "</div>"
      ],
      "text/plain": [
       "                      NameModel  Training_Score  Testing_Score\n",
       "0          Gaussian Naive Bayes              97             98\n",
       "1           Logistic Regression             100            100\n",
       "2                           KNN              86             83\n",
       "3                 Decision Tree             100            100\n",
       "4                 Random Forest             100             99\n",
       "5  Gradient Boosting Classifier             100            100\n",
       "6        Support Vector Machine             100             83\n",
       "7               Neural Networks              82             81"
      ]
     },
     "execution_count": 47,
     "metadata": {},
     "output_type": "execute_result"
    }
   ],
   "source": [
    "d=pd.DataFrame({'NameModel':['Gaussian Naive Bayes','Logistic Regression','KNN','Decision Tree','Random Forest',\n",
    "                             'Gradient Boosting Classifier','Support Vector Machine','Neural Networks'],\n",
    "                'Training_Score':[97,100,86,100,100,100,100,82],\n",
    "               'Testing_Score':[98,100,83,100,99,100,83,81]});d\n",
    "                \n"
   ]
  },
  {
   "cell_type": "code",
   "execution_count": 46,
   "metadata": {},
   "outputs": [
    {
     "data": {
      "text/html": [
       "<div>\n",
       "<style scoped>\n",
       "    .dataframe tbody tr th:only-of-type {\n",
       "        vertical-align: middle;\n",
       "    }\n",
       "\n",
       "    .dataframe tbody tr th {\n",
       "        vertical-align: top;\n",
       "    }\n",
       "\n",
       "    .dataframe thead th {\n",
       "        text-align: right;\n",
       "    }\n",
       "</style>\n",
       "<table border=\"1\" class=\"dataframe\">\n",
       "  <thead>\n",
       "    <tr style=\"text-align: right;\">\n",
       "      <th></th>\n",
       "      <th>NameModel</th>\n",
       "      <th>ROC_Score</th>\n",
       "    </tr>\n",
       "  </thead>\n",
       "  <tbody>\n",
       "    <tr>\n",
       "      <th>0</th>\n",
       "      <td>Gaussian Naive Bayes</td>\n",
       "      <td>0.994</td>\n",
       "    </tr>\n",
       "    <tr>\n",
       "      <th>1</th>\n",
       "      <td>Logistic Regression</td>\n",
       "      <td>1.000</td>\n",
       "    </tr>\n",
       "    <tr>\n",
       "      <th>2</th>\n",
       "      <td>KNN</td>\n",
       "      <td>0.520</td>\n",
       "    </tr>\n",
       "    <tr>\n",
       "      <th>3</th>\n",
       "      <td>Decision Tree</td>\n",
       "      <td>1.000</td>\n",
       "    </tr>\n",
       "    <tr>\n",
       "      <th>4</th>\n",
       "      <td>Random Forest</td>\n",
       "      <td>0.982</td>\n",
       "    </tr>\n",
       "    <tr>\n",
       "      <th>5</th>\n",
       "      <td>Gradient Boosting Classifier</td>\n",
       "      <td>1.000</td>\n",
       "    </tr>\n",
       "    <tr>\n",
       "      <th>6</th>\n",
       "      <td>Support Vector Machine</td>\n",
       "      <td>1.000</td>\n",
       "    </tr>\n",
       "    <tr>\n",
       "      <th>7</th>\n",
       "      <td>Neural Networks</td>\n",
       "      <td>0.817</td>\n",
       "    </tr>\n",
       "  </tbody>\n",
       "</table>\n",
       "</div>"
      ],
      "text/plain": [
       "                      NameModel  ROC_Score\n",
       "0          Gaussian Naive Bayes      0.994\n",
       "1           Logistic Regression      1.000\n",
       "2                           KNN      0.520\n",
       "3                 Decision Tree      1.000\n",
       "4                 Random Forest      0.982\n",
       "5  Gradient Boosting Classifier      1.000\n",
       "6        Support Vector Machine      1.000\n",
       "7               Neural Networks      0.817"
      ]
     },
     "execution_count": 46,
     "metadata": {},
     "output_type": "execute_result"
    }
   ],
   "source": [
    "ROC_Score=pd.DataFrame({'NameModel':['Gaussian Naive Bayes','Logistic Regression','KNN','Decision Tree','Random Forest',\n",
    "                                     'Gradient Boosting Classifier','Support Vector Machine','Neural Networks'],\n",
    "                        'ROC_Score':[0.994,1,0.52,1,0.982,1,1,0.817]});ROC_Score"
   ]
  },
  {
   "cell_type": "code",
   "execution_count": 49,
   "metadata": {},
   "outputs": [
    {
     "data": {
      "text/plain": [
       "<matplotlib.axes._subplots.AxesSubplot at 0x24ebed68e10>"
      ]
     },
     "execution_count": 49,
     "metadata": {},
     "output_type": "execute_result"
    },
    {
     "data": {
      "image/png": "[encoded data removed]",
      "text/plain": [
       "<Figure size 432x288 with 1 Axes>"
      ]
     },
     "metadata": {
      "needs_background": "light"
     },
     "output_type": "display_data"
    }
   ],
   "source": [
    "ROC_Score.plot(kind='bar')"
   ]
  },
  {
   "cell_type": "code",
   "execution_count": 7,
   "metadata": {},
   "outputs": [
    {
     "data": {
      "text/plain": [
       "<matplotlib.axes._subplots.AxesSubplot at 0x24ebc0fdc88>"
      ]
     },
     "execution_count": 7,
     "metadata": {},
     "output_type": "execute_result"
    },
    {
     "data": {
      "image/png": "[encoded data removed]",
      "text/plain": [
       "<Figure size 432x288 with 1 Axes>"
      ]
     },
     "metadata": {
      "needs_background": "light"
     },
     "output_type": "display_data"
    }
   ],
   "source": [
    "d.plot(kind='bar')"
   ]
  },
  {
   "cell_type": "code",
   "execution_count": null,
   "metadata": {},
   "outputs": [],
   "source": []
  }
 ],
 "metadata": {
  "kernelspec": {
   "display_name": "Python 3",
   "language": "python",
   "name": "python3"
  },
  "language_info": {
   "codemirror_mode": {
    "name": "ipython",
    "version": 3
   },
   "file_extension": ".py",
   "mimetype": "text/x-python",
   "name": "python",
   "nbconvert_exporter": "python",
   "pygments_lexer": "ipython3",
   "version": "3.7.0"
  }
 },
 "nbformat": 4,
 "nbformat_minor": 2
}
